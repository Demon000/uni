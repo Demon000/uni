{
 "cells": [
  {
   "cell_type": "markdown",
   "metadata": {},
   "source": [
    "# Lucrare de control\n",
    "\n",
    "## 1. Model logistic (general)\n",
    "\n",
    "Analizăm ecuație pentru o funcție $x: \\mathbb R \\to \\mathbb R$,\n",
    "\n",
    "\\begin{align*}\n",
    "\\frac{\\mathrm dx}{\\mathrm dt} = r x (1 - x) && (r \\in \\mathbb R)\n",
    "\\end{align*}\n",
    "\n",
    "Gasiți soluția generală! (Explicită său implicită, nu conteăză)"
   ]
  },
  {
   "cell_type": "markdown",
   "metadata": {},
   "source": [
    "### Ajutor:\n",
    "\n",
    "- *Ce fel de ecuație avem?* \n",
    "- *Care este ordinul ecuației?*  \n",
    "- *Avem \"constante de integrație\"?*"
   ]
  },
  {
   "cell_type": "markdown",
   "metadata": {},
   "source": [
    "## 2. Model logistic (numeric)\n",
    "\n",
    "Acum avem o ecuăție \n",
    "\n",
    "\\begin{align*}\n",
    "\\frac{\\mathrm dx}{\\mathrm dt} = x (1 - x)\n",
    "\\end{align*}\n",
    "\n",
    "1. Gasiți soluția *numerică* pentru $x_1(t)$ și  $x_2(t)$ in întervalul $0 \\leq t \\leq 5$ cu condiție initiale:\n",
    "\n",
    "    \\begin{align*}\n",
    "    \\frac{\\mathrm d x_1}{\\mathrm dt} &= x_1 (1 - x_1) && x_1(0) = 0.1 \\\\\n",
    "    \\frac{\\mathrm d x_2}{\\mathrm dt} &= x_2 (1 - x_2) && x_2(0) = 2 \\\\\n",
    "    \\end{align*}\n",
    "\n",
    "    Puteți folosi algorithmul lui Runge-Kutta.\n",
    "    \n",
    "2. Representați grafic soluții $x_1(t)$ și $x_2(t)$ in întervalul $0 \\leq t \\leq 5$. Colorați soluția $x_1(t)$ cu albastru și $x_2(t)$ cu roși.\n"
   ]
  },
  {
   "cell_type": "markdown",
   "metadata": {},
   "source": [
    "### Ajutor:\n",
    "\n",
    "Cu un pic de algebră putem scriem soluția $(1)$ in formă explicită,\n",
    "\n",
    "\\begin{align*}\n",
    "x(t) = \\frac{x_0}{x_0 + (1 - x_0) \\mathrm e^{-rt}} && x(0) = x_0.\n",
    "\\end{align*}\n",
    "\n",
    "*Soluția numerică gasită este confirmată câtre soluția explicită?*\n",
    "\n",
    "Pentru reprezentarea grăfica puteți folosi `list_plot` sau opțiune date la `desolve_rk4`."
   ]
  },
  {
   "cell_type": "markdown",
   "metadata": {},
   "source": [
    "## 3. Portret fazic\n",
    "\n",
    "Reprezentăți grafic portretul fazic ecuației\n",
    "\n",
    "\\begin{align*}\n",
    "\\frac{\\mathrm dx}{\\mathrm dt} = x (1 - x)\n",
    "\\end{align*}\n",
    "\n",
    "împreuna cu soluție gasite pentru $x_1(t)$ și $x_2(t)$ la punctul $2$. Portret să fie facut pentru intervalul $0 \\leq t \\leq 5$ și $-1 \\leq x \\leq 2$.\n"
   ]
  },
  {
   "cell_type": "markdown",
   "metadata": {},
   "source": [
    "\n",
    "### Ajutor\n",
    "\n",
    "Portretul fazic pentru $x'(t) = 1 - x$ arată așa:\n"
   ]
  },
  {
   "cell_type": "markdown",
   "metadata": {},
   "source": [
    "Pentru că sageți sa fi vizibil am folosit opțiunea `headaxislength = 3` împreuna cu `headlength = 4`. "
   ]
  },
  {
   "cell_type": "markdown",
   "metadata": {},
   "source": [
    "## 4. Puncte de echilibru\n",
    "\n",
    "1. Gasiți  soluții de echilibru pentru ecuația\n",
    "\n",
    "    \\begin{align*}\n",
    "    \\frac{\\mathrm dx}{\\mathrm dt} = x (1 - x)(2 - x)\n",
    "    \\end{align*}\n",
    "\n",
    "2. Pentru fiecare soluție de echilibriu avem un punct de echilibriu. Determinați cu \"metoda stabilitații in prima aproximație\" daca fiecare punct este instabil sau nu.\n"
   ]
  },
  {
   "cell_type": "markdown",
   "metadata": {},
   "source": [
    "### Ajutor\n",
    "\n",
    "*Ce înseamna o soluția de echilibru*?"
   ]
  },
  {
   "cell_type": "markdown",
   "metadata": {},
   "source": [
    "## 5. Model linear \n",
    "\n",
    "Gasiți soluția pentru problema Cauchy:\n",
    "\n",
    "\\begin{align*}\n",
    "\\left(\\begin{matrix} \\frac{\\mathrm d}{\\mathrm dt} x_1 \\\\ \\frac{\\mathrm d}{\\mathrm dt} x_2 \\end{matrix} \\right) =\n",
    "\\left(\\begin{matrix} -8 && -5 \\\\ 10 && 7 \\end{matrix} \\right) \n",
    "\\left(\\begin{matrix} x_1 \\\\ x_2 \\end{matrix} \\right) && \\text{cu} && \\begin{cases} x_1(0) = 2 \\\\ x_2(0) = 3 \\end{cases}\n",
    "\\end{align*}"
   ]
  }
 ],
 "metadata": {
  "kernelspec": {
   "display_name": "SageMath 9.3",
   "language": "sage",
   "name": "sagemath"
  },
  "language_info": {
   "codemirror_mode": {
    "name": "ipython",
    "version": 3
   },
   "file_extension": ".py",
   "mimetype": "text/x-python",
   "name": "python",
   "nbconvert_exporter": "python",
   "pygments_lexer": "ipython3",
   "version": "3.9.5"
  }
 },
 "nbformat": 4,
 "nbformat_minor": 4
}
